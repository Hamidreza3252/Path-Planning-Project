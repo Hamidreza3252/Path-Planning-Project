{
 "cells": [
  {
   "cell_type": "code",
   "execution_count": 16,
   "metadata": {
    "scrolled": true
   },
   "outputs": [
    {
     "data": {
      "text/html": [
       "<style>.container { width:80% !important; }</style>"
      ],
      "text/plain": [
       "<IPython.core.display.HTML object>"
      ]
     },
     "metadata": {},
     "output_type": "display_data"
    }
   ],
   "source": [
    "from IPython.core.display import display, HTML\n",
    "display(HTML(\"<style>.container { width:80% !important; }</style>\"))"
   ]
  },
  {
   "cell_type": "code",
   "execution_count": null,
   "metadata": {},
   "outputs": [],
   "source": []
  },
  {
   "cell_type": "markdown",
   "metadata": {},
   "source": [
    "# Path Planning Project\n",
    "\n",
    "\n",
    "## 1. Objective \n",
    "The objective of this project is to design a path planner that is able to create smooth, safe paths for the car to follow along a 3 lane highway with traffic. A successful path planner is able to keep inside its lane, avoid hitting other cars, and pass slower moving traffic all by using localization, sensor fusion, and map data. \n",
    "\n",
    "## 2. Project Description \n",
    "\n",
    "The virtual highway used for this simulation provides normal traffic with +-10 MPH of the 50 MPH speed limit. The implemented code uses the following data for localization and path planing: \n",
    "\n",
    "- The ego car's localization and sensor fusion data \n",
    "- A sparse map list of waypoints around the highway\n",
    "\n",
    "The car will try to go as close as possible to the 50 MPH speed limit, which means passing slower traffic when possible. It should be noted that other cars will try to change lanes too. The ego car should avoid hitting other cars at all cost as well as driving inside of the marked road lanes at all times, unless going from one lane to another. The car should be able to make one complete loop around the `6946m` highway. Since the car is trying to go 50 MPH, it should take a little over 5 minutes to complete 1 loop. Also the car should not experience total acceleration over 10 m/s^2 and jerk that is greater than 10 m/s^3.\n",
    "\n",
    "## 3. Simulator \n",
    "\n",
    "### Details \n",
    "\n",
    "1. The Term3 simulator can be download from the [releases tab (https://github.com/udacity/self-driving-car-sim/releases/tag/T3_v1.2).   \n",
    "\n",
    "2. In the simulator provided, the car uses a perfect controller and will visit every (x,y) point it recieves in the list every 0.02 seconds. The units for the (x,y) points are in meters and the spacing of the points determines the speed of the car. The vector going from a point to the next point in the list dictates the angle of the car. Acceleration both in the tangential and normal directions is measured along with the jerk, the rate of change of total Acceleration. The (x,y) point paths that the planner recieves should not have a total acceleration that goes over 10 m/s^2, also the jerk should not go over 50 m/s^3. \n",
    "\n",
    "3. There will be some latency between the simulator running and the path planner returning a path, with optimized code usually its not very long maybe just 1-3 time steps. During this delay the simulator will continue using points that it was last given, because of this its a good idea to store the last points we have used so we can have a smooth transition. `previous_path_x`, and `previous_path_y` can be helpful for this transition since they show the last points given to the simulator controller with the processed points already removed. You would either return a path that extends this previous path or make sure to create a new path that has a smooth transition with this last path.\n",
    "\n",
    "### The map of the highway is in data/highway_map.txt \n",
    "Each waypoint in the list contains  `[x, y, s, dx, dy]` values. `x` and `y` are the waypoint's map coordinate position, the s value is the distance along the road to get to that waypoint in meters, the `dx` and `dy` values define the unit normal vector pointing outward of the highway loop.\n",
    "\n",
    "The highway's waypoints loop around so the frenet `s` value, distance along the road, goes from `0` to `6945.554`. \n",
    "\n",
    "### Simulator's Data to The Path Planning Module \n",
    "\n",
    "#### Main car's localization Data (No Noise)\n",
    "\n",
    "- `[\"x\"]` The car's x position in map coordinates\n",
    "- `[\"y\"]` The car's y position in map coordinates\n",
    "- `[\"s\"]` The car's s position in frenet coordinates\n",
    "- `[\"d\"]` The car's d position in frenet coordinates\n",
    "- `[\"yaw\"]` The car's yaw angle in the map\n",
    "- `[\"speed\"]` The car's speed in MPH \n",
    "\n",
    "#### Previous path data given to the Planner\n",
    "\n",
    "The `x` and `y` coordinates of the previous path that were not processed (were not passed by the car) since the last time step. \n",
    "\n",
    "`[\"previous_path_x\"]` The previous list of x points previously given to the simulator\n",
    "`[\"previous_path_y\"]` The previous list of y points previously given to the simulator\n",
    "\n",
    "#### Previous path's end s and d values \n",
    "\n",
    "`[\"end_path_s\"]` The previous list's last point's frenet s value\n",
    "`[\"end_path_d\"]` The previous list's last point's frenet d value\n",
    "\n",
    "#### Sensor Fusion Data, a list of all other car's attributes on the same side of the road. (No Noise)\n",
    "\n",
    "`[\"sensor_fusion\"]` A 2d vector of cars and then that car's (car's unique ID, car's x position in map coordinates, car's y position in map coordinates, car's x velocity in m/s, car's y velocity in m/s, car's s position in frenet coordinates, car's d position in frenet coordinates). \n",
    "\n",
    "## 4. The Code and Approach \n",
    "\n",
    "Two main class handing highway driving is `BehaviorPlanner` with the following details.  \n",
    "\n",
    "### - `BehaviorPlanner` Class (Singleton) \n",
    "\n",
    "#### The main variables \n",
    "- `vehicle`: An object to the ego vehicle \n",
    "- `front_cars_speeds_`: A double vector keeping the velocity of the cars that are right in front of the ego vehicle \n",
    "- `behind_cars_speeds_`: A double vector keeping the velocity of the cars that are right behind of the ego vehicle \n",
    "- `front_cars_s_poses_`: A double vector keeping the s coordinate of the cars that are right in front of the ego vehicle \n",
    "- `behind_cars_s_poses_`: A double vector keeping the s coordinate of the cars that are right behind of the ego vehicle \n",
    "- `lane_speed_costs_`: A double vector keeping the inefficiency costs of the lanes \n",
    "\n",
    "#### The main functions \n",
    "- **`HandleHighwayDriving`**: This function is the main function called from the `main`, receiving all the information from the simulator. The main outputs of this function are x and y values of the path points (`next_x_vals`, `next_y_vals`) that the car should pass from every 0.02 sec. \n",
    "- **`UpdateLanesInfo`**: This function uses the current position of the car and other input data to update all the information related to the lanes. This infomation of the lanes will be used for the necessary actions in the next step. The main parameters that `UpdateLanesInfo` updates include: \n",
    "  - `front_cars_speeds_` is used to calculate the inefficiency costs of the lanes as well as avoid collision with the cars in front of the ego car \n",
    "  - `front_cars_s_poses_` is used to check the distance between the ego car and other cars right in front of the ego car to avoid collision while changing lane \n",
    "  - `behind_cars_speeds_` is used to check the velocity of the cars right behind the ego car to avoid collision while changing lane \n",
    "  - `behind_cars_s_poses_` is used to check the distance between the ego car and other cars right behind the ego car to avoid collision while changing lane \n",
    "  - `acc_value` is the acceleration (+/-) calculated based on the disctance of the ego car from the front car. This is used to accelerate and decelerate whenever needed \n",
    "  - `too_close` is a boolean flag which is raised when the car gets close to the front car to decelerate, avoiding collision \n",
    "  - `front_car_speed` is set to the the velocity of the front car. This parameter is used to as the lower bound of the velocity while deceleration to avoid collision \n",
    "- **`UpdateState`**: This fucntion uses all the lane-related information, which are updated in `UpdateLanesInfo` function, to update the state of the `vehicle` object. These states are `kKeepLane`, `kChangeLaneLeft`, `kChangeLaneRight`, and `kAvoidCollision`. This function sets the states using the following instructions: \n",
    "  - Sorting `lane_speed_costs_` to see which lane is more efficient to take \n",
    "  - Suggesting the efficient lane to the ego car \n",
    "  - Checking if the suggested lane is safe to take or not. If it is safe, it changes the lane of the vehicle and the path generation will automatically take it into account. Safety is checked usind the estimated distance of the ego car with respect to the front and behind cars in the same and the target lane. \n",
    "- `**GeneratePath**`: This function generates the points of the path of the car to be taken at every 0.02 sec. In order to generate a smooth path, it stiches the points of the previous path, that were not passed by the car within the last time step, with the new points that are generated in the current time step. The path points are generated using the states of the car and the map waypoints of the highway. \n",
    "\n",
    "### Sample Video of the Result \n",
    "[![Path Planning Sample Video](https://img.youtube.com/vi/wr7z2fXcacw/0.jpg)](https://www.youtube.com/watch?v=wr7z2fXcacw)\n",
    "\n",
    "## 5. Dependencies\n",
    "\n",
    "* cmake >= 3.5\n",
    "* gcc/g++ >= 5.4\n",
    "* [uWebSockets](https://github.com/uWebSockets/uWebSockets)\n",
    "  * Run either `install-mac.sh` or `install-ubuntu.sh`.\n",
    "  * If you install from source, checkout to commit `e94b6e1`, i.e.\n",
    "    ```\n",
    "    git clone https://github.com/uWebSockets/uWebSockets \n",
    "    cd uWebSockets\n",
    "    git checkout e94b6e1\n",
    "    ```\n",
    "\n",
    "## 6. Code Style\n",
    "\n",
    "Please (do your best to) stick to [Google's C++ style guide](https://google.github.io/styleguide/cppguide.html). \n",
    "\n",
    "\n"
   ]
  },
  {
   "cell_type": "code",
   "execution_count": null,
   "metadata": {},
   "outputs": [],
   "source": []
  }
 ],
 "metadata": {
  "kernelspec": {
   "display_name": "Python 3",
   "language": "python",
   "name": "python3"
  },
  "language_info": {
   "codemirror_mode": {
    "name": "ipython",
    "version": 3
   },
   "file_extension": ".py",
   "mimetype": "text/x-python",
   "name": "python",
   "nbconvert_exporter": "python",
   "pygments_lexer": "ipython3",
   "version": "3.7.5"
  }
 },
 "nbformat": 4,
 "nbformat_minor": 2
}
